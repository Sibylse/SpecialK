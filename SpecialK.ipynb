{
 "cells": [
  {
   "cell_type": "code",
   "execution_count": 4,
   "metadata": {},
   "outputs": [],
   "source": [
    "import multiprocessing\n",
    "import os\n",
    "import numpy as np\n",
    "from numpy import linalg as la\n",
    "import sklearn\n",
    "from sklearn.neighbors import radius_neighbors_graph, kneighbors_graph\n",
    "from sklearn.preprocessing import MinMaxScaler\n",
    "from sklearn import cluster,datasets, mixture\n",
    "from sklearn.cluster import KMeans\n",
    "import matplotlib.pyplot as plt\n",
    "from itertools import cycle, islice\n",
    "import pandas\n",
    "import scipy\n",
    "from scipy.stats import norm\n",
    "from PIL import Image\n",
    "\n",
    "m=1500"
   ]
  },
  {
   "cell_type": "code",
   "execution_count": 5,
   "metadata": {},
   "outputs": [],
   "source": [
    "def getY(labels):\n",
    "    Y = np.zeros((len(labels), max(labels)+1))\n",
    "    for i in range(0, len(labels)):\n",
    "        Y[i, labels[i]] = 1\n",
    "    return Y"
   ]
  },
  {
   "cell_type": "markdown",
   "metadata": {},
   "source": [
    "ZZ Top Bound"
   ]
  },
  {
   "cell_type": "code",
   "execution_count": 21,
   "metadata": {},
   "outputs": [],
   "source": [
    "def logZZTop(y1,y2,U,out=False):\n",
    "    y = (y1+y2)>0\n",
    "    U = U[y,:]\n",
    "    norms = la.norm(U,axis = 0)\n",
    "    norms[norms==0]=1\n",
    "    U = U/norms\n",
    "    U = U-np.mean(U,axis=0)\n",
    "    y1 = y1[y]\n",
    "    y2 = y2[y]\n",
    "    σ2 = np.mean(U*U)\n",
    "    if out: print('sigma='+str(σ2))\n",
    "    t = max(la.norm(y1@U)**2/np.sum(y1), la.norm(y2@U)**2/np.sum(y2))-σ2*U.shape[1]\n",
    "    if out: print('t='+str(t))\n",
    "    return np.min(np.log(U.shape[0]) -t**2/(σ2*U.shape[1] +t/3)/2,0)"
   ]
  },
  {
   "cell_type": "markdown",
   "metadata": {},
   "source": [
    "# SpecialK"
   ]
  },
  {
   "cell_type": "code",
   "execution_count": 33,
   "metadata": {},
   "outputs": [],
   "source": [
    "def specialK(W, n, α, kmax=5, out=False):\n",
    "    Lambda, V = scipy.sparse.linalg.eigsh(W, k=n, which=\"LM\")\n",
    "    Lambda, D = np.absolute(Lambda), np.absolute(V)\n",
    "    D = D*Lambda**(0.5)\n",
    "    r=2\n",
    "    Yopt = np.ones(D.shape[0])\n",
    "    while r<=kmax:\n",
    "        if out: print('============== r= '+str(r)+'============')\n",
    "        kmeans = KMeans(n_clusters=r)\n",
    "        kmeans.fit(D[:,np.argsort(la.norm(D,axis=0))[::-1][0:50]])\n",
    "        Y = getY(kmeans.labels_)\n",
    "        topk=int(min(r*(r-1)/2,10)) # top 10 pairs of clusters, having the highest cut\n",
    "        cuts = Y.T@W@Y\n",
    "        idx = np.triu_indices(r,1)\n",
    "        for s in np.argpartition(cuts[idx],-topk, axis=None)[-topk:]:\n",
    "            if out: print(\"---- s1=\"+str(idx[0][s])+', s2='+str(idx[1][s])+\", cut=\"+str(cuts[idx][s]))\n",
    "            logZZ = logZZTop(Y[:,idx[0][s]],Y[:,idx[1][s]],D, out=out)\n",
    "            if out: print('ZZ Top: '+ str(np.exp(logZZ)))\n",
    "            if logZZ> np.log(α):\n",
    "                    if out: print('k = '+ str(r-1))\n",
    "                    return Yopt\n",
    "                \n",
    "        Yopt = Y\n",
    "        r=r+1\n",
    "    return Yopt"
   ]
  },
  {
   "cell_type": "markdown",
   "metadata": {},
   "source": [
    "# Make some Experiments"
   ]
  },
  {
   "cell_type": "markdown",
   "metadata": {},
   "source": [
    "Functions to create the similarity matrices."
   ]
  },
  {
   "cell_type": "code",
   "execution_count": 24,
   "metadata": {},
   "outputs": [],
   "source": [
    "def get_W_dense(data, desired_percentage=0.99,knn= 10,eps_min= 0.1,eps_max= 1.0,eps_step= 0.01):\n",
    "    dist_matrix = sklearn.metrics.pairwise.pairwise_distances(data)\n",
    "    eps_candidate = eps_min\n",
    "    eps = 0\n",
    "    while eps==0:\n",
    "        nr_core_points = np.sum(np.sum(dist_matrix < eps_candidate,1) >= knn)\n",
    "        #print(str(eps_candidate)+' perc: '+str(nr_core_points / len(dist_matrix)))\n",
    "        if (nr_core_points / len(dist_matrix)) >= desired_percentage:\n",
    "            eps=eps_candidate\n",
    "        else:\n",
    "            eps_candidate = eps_candidate+eps_step\n",
    "        if eps_candidate>eps_max:\n",
    "            raise ValueError(\"Desired percentage is not achievable.\")\n",
    "    W = radius_neighbors_graph(data, radius=eps)\n",
    "    return W\n",
    "def get_W_cut(data):\n",
    "    W = kneighbors_graph(data, n_neighbors=10, mode=\"distance\", include_self=False, n_jobs=-1)\n",
    "    W = 0.5*(W + W.T)\n",
    "    d = np.sum(W, axis=1)\n",
    "    d[d== 0] =1\n",
    "    d = np.power(d,-0.5)\n",
    "    D= scipy.sparse.diags(np.squeeze(np.asarray(d)))\n",
    "    return D@W@D"
   ]
  },
  {
   "cell_type": "markdown",
   "metadata": {},
   "source": [
    "Functions to generate data: "
   ]
  },
  {
   "cell_type": "code",
   "execution_count": 25,
   "metadata": {},
   "outputs": [],
   "source": [
    "def generateCircles(n):\n",
    "    scaler = MinMaxScaler(feature_range=(0, 3))\n",
    "    circles, labels = datasets.make_circles(n_samples=m, factor=.5, noise=n)\n",
    "    scaler.fit(circles)\n",
    "    return \"circles\", scaler.transform(circles), labels, 2\n",
    "def generateMoons(n):\n",
    "    scaler = MinMaxScaler(feature_range=(0, 3))\n",
    "    moons, labels = datasets.make_moons(n_samples=m, noise=n)\n",
    "    scaler.fit(moons)\n",
    "    return \"moons\", scaler.transform(moons), labels, 2\n",
    "def generateBlobs(n):\n",
    "    scaler = MinMaxScaler(feature_range=(0, 3))\n",
    "    blobs, labels = datasets.make_blobs(n_samples=m, centers= [[1,1],[4,9],[6,4]], cluster_std=[n + 0.5, n + 1.25, n + 0.25])\n",
    "    scaler.fit(blobs)\n",
    "    return \"blobs\", scaler.transform(blobs), labels, 3\n",
    "def generateRandom(n):\n",
    "    scaler = MinMaxScaler(feature_range=(0, 3))\n",
    "    no_structure, labels = np.random.rand(m, 2), np.zeros(m)\n",
    "    scaler.fit(no_structure)\n",
    "    return \"random\", scaler.transform(no_structure), labels, 1"
   ]
  },
  {
   "cell_type": "code",
   "execution_count": 30,
   "metadata": {},
   "outputs": [],
   "source": [
    "noise = 0.05\n",
    "shape, data, labels, k = generateCircles(n=noise)\n",
    "W_cut = get_W_cut(data)\n",
    "W_dense = get_W_dense(data)"
   ]
  },
  {
   "cell_type": "markdown",
   "metadata": {},
   "source": [
    "SpecialK of $W_C$."
   ]
  },
  {
   "cell_type": "code",
   "execution_count": 34,
   "metadata": {},
   "outputs": [
    {
     "name": "stdout",
     "output_type": "stream",
     "text": [
      "============== r= 2============\n",
      "---- s1=0, s2=1, cut=0.0\n",
      "sigma=0.000541787791100833\n",
      "t=18.169140646754368\n",
      "ZZ Top: 3.531820870427315e-09\n",
      "============== r= 3============\n",
      "---- s1=0, s2=1, cut=0.0\n",
      "sigma=0.0006784220752203737\n",
      "t=23.008965721979674\n",
      "ZZ Top: 2.214521639722002e-12\n",
      "---- s1=0, s2=2, cut=4.734471408828129\n",
      "sigma=0.0008370717663834261\n",
      "t=7.570498741003118\n",
      "ZZ Top: 0.017788899261507556\n",
      "k = 2\n"
     ]
    },
    {
     "data": {
      "text/plain": [
       "array([[0., 1.],\n",
       "       [1., 0.],\n",
       "       [1., 0.],\n",
       "       ...,\n",
       "       [0., 1.],\n",
       "       [0., 1.],\n",
       "       [1., 0.]])"
      ]
     },
     "execution_count": 34,
     "metadata": {},
     "output_type": "execute_result"
    }
   ],
   "source": [
    "specialK(W_cut,200,1e-2, out=True)"
   ]
  },
  {
   "cell_type": "markdown",
   "metadata": {},
   "source": [
    "SpecialK of $W_R$."
   ]
  },
  {
   "cell_type": "code",
   "execution_count": 35,
   "metadata": {},
   "outputs": [
    {
     "name": "stdout",
     "output_type": "stream",
     "text": [
      "============== r= 2============\n",
      "---- s1=0, s2=1, cut=60.0\n",
      "sigma=0.0005130052252738182\n",
      "t=22.890708034697155\n",
      "ZZ Top: 2.897238814401089e-12\n",
      "============== r= 3============\n",
      "---- s1=0, s2=1, cut=0.0\n",
      "sigma=0.0007293455444426975\n",
      "t=36.40483497821426\n",
      "ZZ Top: 3.62289942433069e-21\n",
      "---- s1=0, s2=2, cut=80.0\n",
      "sigma=0.0011092788635083206\n",
      "t=6.29870334325437\n",
      "ZZ Top: 0.1470365750264144\n",
      "k = 2\n"
     ]
    },
    {
     "data": {
      "text/plain": [
       "array([[0., 1.],\n",
       "       [1., 0.],\n",
       "       [1., 0.],\n",
       "       ...,\n",
       "       [0., 1.],\n",
       "       [0., 1.],\n",
       "       [1., 0.]])"
      ]
     },
     "execution_count": 35,
     "metadata": {},
     "output_type": "execute_result"
    }
   ],
   "source": [
    "specialK(W_dense,200,1e-2, out=True)"
   ]
  },
  {
   "cell_type": "code",
   "execution_count": null,
   "metadata": {},
   "outputs": [],
   "source": []
  }
 ],
 "metadata": {
  "kernelspec": {
   "display_name": "Python 3",
   "language": "python",
   "name": "python3"
  },
  "language_info": {
   "codemirror_mode": {
    "name": "ipython",
    "version": 3
   },
   "file_extension": ".py",
   "mimetype": "text/x-python",
   "name": "python",
   "nbconvert_exporter": "python",
   "pygments_lexer": "ipython3",
   "version": "3.7.2"
  }
 },
 "nbformat": 4,
 "nbformat_minor": 2
}
